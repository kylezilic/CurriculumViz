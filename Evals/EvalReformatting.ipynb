{
 "metadata": {
  "kernelspec": {
   "codemirror_mode": {
    "name": "ipython",
    "version": 2
   },
   "display_name": "IPython (Python 2)",
   "language": "python",
   "name": "python2"
  },
  "name": "",
  "signature": "sha256:2474220f066a35ccdeb72046f8f0cf1be8676965fa8fed9c64b6c9669cdba46e"
 },
 "nbformat": 3,
 "nbformat_minor": 0,
 "worksheets": [
  {
   "cells": [
    {
     "cell_type": "markdown",
     "metadata": {},
     "source": [
      "# Strategy\n",
      "\n",
      "There are quite a few tools for generating PDFs. The most popular is [reportlab](https://pypi.python.org/pypi/reportlab) (people seem to recommend reportlab's [platypus](http://www.reportlab.com/apis/reportlab/2.4/platypus.html) for \"simple\" pdf [generation](https://www.reportlab.com/docs/platypus-example.py)).\n",
      "\n",
      "I would love to do something like produce a [Markdown](http://daringfireball.net/projects/markdown/syntax) document (see [CommonMark](http://commonmark.org/)) and convert it to a PDF, but I can't find a pure-Python toolchain, and I don't know what you'll have installed. Similarly, I thought about [Sphinx](http://sphinx-doc.org/) with [reStructuredText](http://docutils.sourceforge.net/rst.html), but that needs a working LaTeX environment to produce PDFs.\n",
      "\n",
      "So, reportlab it is. It's not pretty, but you could work to make it so. I'm using the simplest version I can think of that produces something readable."
     ]
    },
    {
     "cell_type": "markdown",
     "metadata": {},
     "source": [
      "# Parsing the Excel\n",
      "\n",
      "There are a few good Excel parsers these days, but [pandas](http://pandas.pydata.org/) is nice and standard. It also understands XLS files in addition to XLSX, which is important since we don't want to make people convert to XLSX by hand in order to use a different parse.\n",
      "\n",
      "In this case, we need to know the structure of the XLS documents. There should be two sheets. The first (called \"RawData\") contains columns like \"Path\" \"CourseCode\" etc. and then \"Question_1\", \"Question_2\" etc. The second (called \"QuestionMapper\") contains \"Question 1\" etc. in column A and the text of the question in column B.\n",
      "\n",
      "The first row is a header in both cases.\n",
      "\n",
      "I have no idea how fragile this structure is, so I'll explicitly refer to the sheets by name. That way, there's a decent chance this script will break if someone changes the underlying format."
     ]
    },
    {
     "cell_type": "code",
     "collapsed": false,
     "input": [
      "import pandas as pd\n",
      "import numpy as np\n",
      "import os\n",
      "xl_filename = 'zz.evals.Sophomore-Seminar.xls'\n",
      "pdf_filename = os.path.splitext(xl_filename)[0] + '.pdf'\n",
      "answers = pd.io.excel.read_excel(xl_filename,sheetname='RawData')\n",
      "questionmap = pd.io.excel.read_excel(xl_filename,sheetname='QuestionMapper')"
     ],
     "language": "python",
     "metadata": {},
     "outputs": [
      {
       "output_type": "stream",
       "stream": "stdout",
       "text": [
        "WARNING *** OLE2 inconsistency: SSCS size is 0 but SSAT size is non-zero\n",
        "WARNING *** OLE2 inconsistency: SSCS size is 0 but SSAT size is non-zero\n"
       ]
      }
     ],
     "prompt_number": 1
    },
    {
     "cell_type": "markdown",
     "metadata": {},
     "source": [
      "We want a per-student list of questions and answers. My first thought is to stick everything into a dictionary. We want to make sure to return the results in the correct order, so we could use an ordered dict. I think it's easier just to keep an ordered list of questions."
     ]
    },
    {
     "cell_type": "code",
     "collapsed": false,
     "input": [
      "questions = questionmap[\"Question\"].values"
     ],
     "language": "python",
     "metadata": {},
     "outputs": [],
     "prompt_number": 2
    },
    {
     "cell_type": "code",
     "collapsed": false,
     "input": [
      "#qm will map the column names (Question_1) to question text\n",
      "qm = {}\n",
      "for (idx,qd) in questionmap.iterrows():\n",
      "    qn = qd['Column'].replace(' ','_')\n",
      "    qt = qd['Question']\n",
      "    qm[qn] = qt"
     ],
     "language": "python",
     "metadata": {},
     "outputs": [],
     "prompt_number": 3
    },
    {
     "cell_type": "markdown",
     "metadata": {},
     "source": [
      "Now let's grab the data that should be common to all rows"
     ]
    },
    {
     "cell_type": "code",
     "collapsed": false,
     "input": [
      "path = answers.Path[0]\n",
      "course_code = answers.CourseCode[0]\n",
      "course_title = answers.CourseTitle[0]\n",
      "instructor_name = answers.InstructorName[0]\n",
      "enrollments = answers.Enrollments[0]"
     ],
     "language": "python",
     "metadata": {},
     "outputs": [],
     "prompt_number": 4
    },
    {
     "cell_type": "markdown",
     "metadata": {},
     "source": [
      "And now let's slurp up the data per student."
     ]
    },
    {
     "cell_type": "code",
     "collapsed": false,
     "input": [
      "a = {}\n",
      "for (idx,student) in answers.iterrows():\n",
      "    a[idx] = {}\n",
      "    for colname in answers.columns:\n",
      "        if colname in qm:\n",
      "            a[idx][qm[colname]] = student[colname]"
     ],
     "language": "python",
     "metadata": {},
     "outputs": [],
     "prompt_number": 5
    },
    {
     "cell_type": "markdown",
     "metadata": {},
     "source": [
      "Now we're ready to stamp out the text, believe it or not. The only cute thing is that `pandas` uses nan (\"not a number\") to represent missing data. We'll use `numpy` (imported above as `np`) to test for nan, and turn it into \"No answer given.\""
     ]
    },
    {
     "cell_type": "code",
     "collapsed": false,
     "input": [
      "a[1][questions[0]]"
     ],
     "language": "python",
     "metadata": {},
     "outputs": [
      {
       "metadata": {},
       "output_type": "pyout",
       "prompt_number": 6,
       "text": [
        "u'This class really strengthened my ability to write proofs.'"
       ]
      }
     ],
     "prompt_number": 6
    },
    {
     "cell_type": "code",
     "collapsed": false,
     "input": [
      "def is_nan(x): \n",
      "    try: return np.isnan(x) \n",
      "    except: return False #isnan only eats strings\n",
      "\n",
      "from reportlab.platypus import SimpleDocTemplate, Paragraph, Spacer\n",
      "from reportlab.lib.styles import getSampleStyleSheet # http://eric.sau.pe/tag/reportlab-getsamplestylesheet/\n",
      "from reportlab.rl_config import defaultPageSize\n",
      "from reportlab.lib.units import inch\n",
      "\n",
      "PAGE_HEIGHT=defaultPageSize[1]\n",
      "PAGE_WIDTH=defaultPageSize[0]\n",
      "styles = getSampleStyleSheet()\n",
      "\n",
      "pageinfo = course_code\n",
      "\n",
      "def myFirstPage(canvas, doc):\n",
      "    canvas.saveState()\n",
      "    canvas.setFont('Times-Bold',16)\n",
      "    canvas.drawCentredString(PAGE_WIDTH/2.0, PAGE_HEIGHT-48, course_title)\n",
      "    canvas.drawCentredString(PAGE_WIDTH/2.0, PAGE_HEIGHT-68, course_code)\n",
      "    canvas.drawCentredString(PAGE_WIDTH/2.0, PAGE_HEIGHT-88, instructor_name)\n",
      "    canvas.drawCentredString(PAGE_WIDTH/2.0, PAGE_HEIGHT-108, \"Answers from {a} of {b} enrolled students\".format(a=len(a),\n",
      "                                                                                                                b=enrollments))\n",
      "\n",
      "    canvas.setFont('Times-Roman',9)\n",
      "    canvas.drawString(inch, 0.75 * inch,\"First Page / %s\" % pageinfo)\n",
      "    canvas.restoreState()\n",
      "    \n",
      "def myLaterPages(canvas, doc):\n",
      "    canvas.saveState()\n",
      "    canvas.setFont('Times-Roman', 9)\n",
      "    canvas.drawString(inch, 0.75 * inch,\"Page %d %s\" % (doc.page, pageinfo))\n",
      "    canvas.restoreState()\n",
      "    \n",
      "def go():\n",
      "    doc = SimpleDocTemplate(pdf_filename)\n",
      "    Story = [Spacer(1,2*inch)]\n",
      "    style = styles[\"Normal\"]\n",
      "    for idx in sorted(a):\n",
      "        Story.append(Paragraph(\"Student {i}\".format(i=idx+1),styles['Heading1']))\n",
      "        for question in questions:\n",
      "            #Story.append(Paragraph(question,styles['Heading3']))\n",
      "            answer = a[idx][question]\n",
      "            if is_nan(answer):\n",
      "                answer = 'No answer given.'\n",
      "            #Story.append(Paragraph(answer,styles['Normal']))\n",
      "            Story.append(Paragraph(\"<b>{q}</b> <br/>{a}\".format(q=question,a=answer),styles['Normal']))\n",
      "        Story.append(Paragraph(\"<b> </b><br/>\",styles['Normal'])) # Hack for spacing\n",
      "    #for i in range(100):\n",
      "    #    bogustext = (\"Paragraph number %s. \" % i) *20\n",
      "    #    p = Paragraph(bogustext, style)\n",
      "    #    Story.append(p)\n",
      "    #    Story.append(Spacer(1,0.2*inch))\n",
      "    doc.build(Story, onFirstPage=myFirstPage, onLaterPages=myLaterPages)"
     ],
     "language": "python",
     "metadata": {},
     "outputs": [],
     "prompt_number": 7
    },
    {
     "cell_type": "code",
     "collapsed": false,
     "input": [
      "go()"
     ],
     "language": "python",
     "metadata": {},
     "outputs": [],
     "prompt_number": 8
    },
    {
     "cell_type": "code",
     "collapsed": false,
     "input": [],
     "language": "python",
     "metadata": {},
     "outputs": []
    }
   ],
   "metadata": {}
  }
 ]
}