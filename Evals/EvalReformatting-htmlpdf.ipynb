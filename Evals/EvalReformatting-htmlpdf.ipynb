{
 "cells": [
  {
   "cell_type": "markdown",
   "metadata": {},
   "source": [
    "# Strategy\n",
    "\n",
    "There are quite a few tools for generating PDFs. The most popular is [reportlab](https://pypi.python.org/pypi/reportlab) (people seem to recommend reportlab's [platypus](http://www.reportlab.com/apis/reportlab/2.4/platypus.html) for \"simple\" pdf [generation](https://www.reportlab.com/docs/platypus-example.py)).\n",
    "\n",
    "[Markdown](http://daringfireball.net/projects/markdown/syntax) document (see [CommonMark](http://commonmark.org/)) is a great intermediate format, so we could make one of those and then convert it to PDF. If that's the desired route, we'll probably use [python-markdown2](https://github.com/trentm/python-markdown2) to generate HTML and [xhtml2pdf](https://github.com/chrisglass/xhtml2pdf) to generate the PDF (similar to what is [done](https://omz-forums.appspot.com/pythonista/post/6427727661891584) [here](https://gist.github.com/SpotlightKid/0efb4d07f28af1c8fc1b)). xhtml2pdf does depend on reportlab, which is a bit of a downside, but not too bad. Another option is to use [pdftk](https://pypi.python.org/pypi/pdfkit) which wraps [wkhtmltopdf](http://wkhtmltopdf.org/).\n",
    "\n",
    "Similarly, I thought about [Sphinx](http://sphinx-doc.org/) with [reStructuredText](http://docutils.sourceforge.net/rst.html), but that needs a working LaTeX environment to produce PDFs.\n",
    "\n",
    "A previous version of this script directly used reportlab/platypus. \n",
    "\n",
    "At the moment, I think the only really important output is the HTML/CSS which gets converted to PDF. So, instead of going through Markdown or reStructuredText, I'm just going to spit out my own HTML/CSS. I'll then feed it through one of the HTML/CSS --> PDF conversion chains."
   ]
  },
  {
   "cell_type": "markdown",
   "metadata": {},
   "source": [
    "# Parsing the Excel\n",
    "\n",
    "There are a few good Excel parsers these days, but [pandas](http://pandas.pydata.org/) is nice and standard. It also understands XLS files in addition to XLSX, which is important since we don't want to make people convert to XLSX by hand in order to use a different parse.\n",
    "\n",
    "In this case, we need to know the structure of the XLS documents. There should be two sheets. The first (called \"RawData\") contains columns like \"Path\" \"CourseCode\" etc. and then \"Question_1\", \"Question_2\" etc. The second (called \"QuestionMapper\") contains \"Question 1\" etc. in column A and the text of the question in column B.\n",
    "\n",
    "The first row is a header in both cases.\n",
    "\n",
    "I have no idea how fragile this structure is, so I'll explicitly refer to the sheets by name. That way, there's a decent chance this script will break if someone changes the underlying format."
   ]
  },
  {
   "cell_type": "code",
   "execution_count": 14,
   "metadata": {
    "collapsed": false
   },
   "outputs": [],
   "source": [
    "import pandas as pd\n",
    "import numpy as np\n",
    "import os\n",
    "xl_filename = 'data/Biophysics-(Spring-2015).xlsx'\n",
    "pdf_filename = os.path.splitext(xl_filename)[0] + '.pdf'\n",
    "html_filename = os.path.splitext(xl_filename)[0] + '.html'\n",
    "answers = pd.io.excel.read_excel(xl_filename,sheetname='RawData')\n",
    "questionmap = pd.io.excel.read_excel(xl_filename,sheetname='QuestionMapper')"
   ]
  },
  {
   "cell_type": "markdown",
   "metadata": {},
   "source": [
    "We want a per-student list of questions and answers. My first thought is to stick everything into a dictionary. We want to make sure to return the results in the correct order, so we could use an ordered dict. I think it's easier just to keep an ordered list of questions."
   ]
  },
  {
   "cell_type": "code",
   "execution_count": 15,
   "metadata": {
    "collapsed": false
   },
   "outputs": [],
   "source": [
    "questions = questionmap[\"Question\"].values"
   ]
  },
  {
   "cell_type": "code",
   "execution_count": 16,
   "metadata": {
    "collapsed": false
   },
   "outputs": [
    {
     "name": "stdout",
     "output_type": "stream",
     "text": [
      "[u'What were the most positive features of this course?'\n",
      " u'What is your assessment of the design, materials and assignments in this course?'\n",
      " u'How could this course be improved next time it is offered?'\n",
      " u\"How well were\\xa0[InstructorName] 's objectives (stated or implied) fulfilled?\"\n",
      " u\"What were [InstructorName]'s strongest contributions to this course?\"\n",
      " u\"How could [InstructorName]'s teaching be improved?\"\n",
      " u'What influence did\\xa0[InstructorName] have on your interest in this subject?'\n",
      " u'In the space below, please provide a statement about the quality of your performance in this course.'\n",
      " u'Students are expected to sign these forms (by adding your name), and should know that unsigned forms are unlikely to be taken seriously by evaluating committees.']\n"
     ]
    }
   ],
   "source": [
    "print questions"
   ]
  },
  {
   "cell_type": "markdown",
   "metadata": {},
   "source": [
    "About the below code:\n",
    "\n",
    "When we iterate through the rows, `idx` is the number of the row, and `qd` comes to us as the \"question dictionary\" where row 1 is expected to name the columns, and we can then look up entries by name. For example, column A happens to be \"Column\" and column B is \"Question\", so asking for `qd['Question']` gets the thing in column B.\n",
    "\n",
    "`qm` is then my \"question map\": it maps something like \"Question 1\" to \"What were the most positive features of this course\"\n"
   ]
  },
  {
   "cell_type": "code",
   "execution_count": 17,
   "metadata": {
    "collapsed": false
   },
   "outputs": [],
   "source": [
    "#qm will map the column names (Question_1) to question text\n",
    "qm = {}\n",
    "for (idx,qd) in questionmap.iterrows():\n",
    "    qn = qd['Column'].replace(' ','_')\n",
    "    qt = qd['Question']\n",
    "    qm[qn] = qt"
   ]
  },
  {
   "cell_type": "code",
   "execution_count": 18,
   "metadata": {
    "collapsed": false
   },
   "outputs": [
    {
     "name": "stdout",
     "output_type": "stream",
     "text": [
      "{u'Question_3': u'How could this course be improved next time it is offered?', u'Question_2': u'What is your assessment of the design, materials and assignments in this course?', u'Question_1': u'What were the most positive features of this course?', u'Question_7': u'What influence did\\xa0[InstructorName] have on your interest in this subject?', u'Question_6': u\"How could [InstructorName]'s teaching be improved?\", u'Question_5': u\"What were [InstructorName]'s strongest contributions to this course?\", u'Question_4': u\"How well were\\xa0[InstructorName] 's objectives (stated or implied) fulfilled?\", u'Question_9': u'Students are expected to sign these forms (by adding your name), and should know that unsigned forms are unlikely to be taken seriously by evaluating committees.', u'Question_8': u'In the space below, please provide a statement about the quality of your performance in this course.'}\n"
     ]
    }
   ],
   "source": [
    "print qm"
   ]
  },
  {
   "cell_type": "markdown",
   "metadata": {},
   "source": [
    "Now let's grab the data that should be common to all rows"
   ]
  },
  {
   "cell_type": "code",
   "execution_count": 19,
   "metadata": {
    "collapsed": false
   },
   "outputs": [],
   "source": [
    "path = answers.Path[0]\n",
    "course_code = answers.CourseCode[0]\n",
    "course_title = answers.CourseTitle[0]\n",
    "instructor_name = answers.InstructorName[0]\n",
    "enrollments = answers.Enrollments[0]\n",
    "# We know we're not extracting the following from each row, so keep quiet about it later.\n",
    "knownskips = ['Path','CourseCode','CourseTitle','UniqueID','InstructorName','Enrollments']"
   ]
  },
  {
   "cell_type": "markdown",
   "metadata": {},
   "source": [
    "And now let's slurp up the data per student."
   ]
  },
  {
   "cell_type": "code",
   "execution_count": 20,
   "metadata": {
    "collapsed": false
   },
   "outputs": [],
   "source": [
    "a = {}\n",
    "for (idx,student) in answers.iterrows():\n",
    "    a[idx] = {}\n",
    "    for colname in answers.columns:\n",
    "        col_name = colname.replace(' ','_')\n",
    "        if col_name in qm:\n",
    "            #print \"Looking up\",col_name\n",
    "            a[idx][qm[col_name]] = student[colname]\n",
    "        else:\n",
    "            if colname not in knownskips:\n",
    "                print \"Could not find\",colname"
   ]
  },
  {
   "cell_type": "markdown",
   "metadata": {},
   "source": [
    "Now we're ready to stamp out the text, believe it or not. The only cute thing is that `pandas` uses nan (\"not a number\") to represent missing data. We'll use `numpy` (imported above as `np`) to test for nan, and turn it into \"No answer given.\""
   ]
  },
  {
   "cell_type": "code",
   "execution_count": 21,
   "metadata": {
    "collapsed": false
   },
   "outputs": [
    {
     "data": {
      "text/plain": [
       "u'This class integrated physics and biology in a fascinating way.'"
      ]
     },
     "execution_count": 21,
     "metadata": {},
     "output_type": "execute_result"
    }
   ],
   "source": [
    "a[0][questions[0]]"
   ]
  },
  {
   "cell_type": "code",
   "execution_count": 22,
   "metadata": {
    "collapsed": true
   },
   "outputs": [],
   "source": [
    "def is_nan(x): \n",
    "    try: return np.isnan(x) \n",
    "    except: return False #isnan only eats strings\n"
   ]
  },
  {
   "cell_type": "code",
   "execution_count": 86,
   "metadata": {
    "collapsed": false
   },
   "outputs": [],
   "source": [
    "html = '''\n",
    "<html>\n",
    "<head>\n",
    "<style>\n",
    "h1 {{\n",
    "    text-align: \n",
    "    center;\n",
    "}}\n",
    "p.name {{    \n",
    "    font-weight: bold;\n",
    "    font-size: large;\n",
    "    margin-top: 2em;\n",
    "    margin-bottom: 0em;\n",
    "}}\n",
    "p.question {{\n",
    "    font-weight: bold;\n",
    "    margin-top: 0em;\n",
    "    margin-bottom: 0em;\n",
    "}}\n",
    "p.answer {{\n",
    "    text-align: justify;\n",
    "    margin-top: 0em;\n",
    "    margin-bottom: 0em;\n",
    "}}\n",
    "</style>\n",
    "</head>\n",
    "<body>\n",
    "<h1>{title}</h1>\n",
    "<h1>{code}</h1>\n",
    "<h1>{instructor}</h1>\n",
    "<h1>Answers from {a} of {b} enrolled students</h1>\n",
    "'''.format(\n",
    "    title=course_title,code=course_code,instructor=instructor_name,\n",
    "    a=len(a),b=enrollments\n",
    ")"
   ]
  },
  {
   "cell_type": "code",
   "execution_count": 87,
   "metadata": {
    "collapsed": false
   },
   "outputs": [],
   "source": [
    "for idx in sorted(a):\n",
    "    html += '''<div class=\"response\">\n",
    "    <p class=\"name\">Student {i} ({n})</p>\n",
    "    '''.format(\n",
    "            i=idx+1, n=a[idx][questions[-1]]\n",
    "        )\n",
    "    for question in questions[:-1]:\n",
    "        question_cor_name = question.replace(\"[InstructorName]\", instructor_name)\n",
    "        if u'\\xa0' in question_cor_name: \n",
    "            question_cor_name = question_cor_name.replace(u'\\xa0', u' ') #Corrects for unicode encoding error\n",
    "        answer = a[idx][question]\n",
    "        if is_nan(answer):\n",
    "            answer = 'No answer given.'\n",
    "        html += '''<p class=\"question\">{q}</p>\n",
    "        <p class=\"answer\">{a}</p>\n",
    "        '''.format(q=question_cor_name,a=answer)\n",
    "    html += '</div>'"
   ]
  },
  {
   "cell_type": "code",
   "execution_count": 88,
   "metadata": {
    "collapsed": false
   },
   "outputs": [],
   "source": [
    "open(html_filename,'w').write(html)"
   ]
  },
  {
   "cell_type": "code",
   "execution_count": null,
   "metadata": {
    "collapsed": true
   },
   "outputs": [],
   "source": []
  }
 ],
 "metadata": {
  "kernelspec": {
   "display_name": "Python 2",
   "language": "python",
   "name": "python2"
  },
  "language_info": {
   "codemirror_mode": {
    "name": "ipython",
    "version": 2
   },
   "file_extension": ".py",
   "mimetype": "text/x-python",
   "name": "python",
   "nbconvert_exporter": "python",
   "pygments_lexer": "ipython2",
   "version": "2.7.9"
  }
 },
 "nbformat": 4,
 "nbformat_minor": 0
}
