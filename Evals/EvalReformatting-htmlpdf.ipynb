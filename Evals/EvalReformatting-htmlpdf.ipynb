{
 "cells": [
  {
   "cell_type": "markdown",
   "metadata": {},
   "source": [
    "# Overview\n",
    "\n",
    "You can either run this as a notebook, changing one variable below, or use the command-line `makepdf.py` script.\n",
    "\n",
    "# Requirements\n",
    "\n",
    " * The standard scientific Python stack, which comes with the [Anaconda](https://store.continuum.io/cshop/anaconda/) Python distribution ... that's what you should be using anyway.\n",
    " * [wordcloud](https://github.com/amueller/word_cloud) which can be installed with `pip install git+git://github.com/amueller/word_cloud.git` and requires [PIL](http://effbot.org/imagingbook/pil-index.htm) (PIL comes with the Anaconda Python distribution)\n",
    " * [Weasyprint](http://weasyprint.org/). It has some dependencies. You should be able to `pip install weasyprint`."
   ]
  },
  {
   "cell_type": "markdown",
   "metadata": {},
   "source": [
    "# Strategy\n",
    "\n",
    "In the end, we want a nice looking PDF document. There are quite a few tools for generating PDFs. The most popular is [reportlab](https://pypi.python.org/pypi/reportlab) (people seem to recommend reportlab's [platypus](http://www.reportlab.com/apis/reportlab/2.4/platypus.html) for \"simple\" pdf [generation](https://www.reportlab.com/docs/platypus-example.py)). I wanted something a little easier to control. I thought about using [Markdown](http://daringfireball.net/projects/markdown/syntax) document (see [CommonMark](http://commonmark.org/)) as intermediate format, and using [python-markdown2](https://github.com/trentm/python-markdown2) to generate HTML and [xhtml2pdf](https://github.com/chrisglass/xhtml2pdf) to generate the PDF (similar to what is [done](https://omz-forums.appspot.com/pythonista/post/6427727661891584) [here](https://gist.github.com/SpotlightKid/0efb4d07f28af1c8fc1b)). In the end, it seemed easier to just write out the simple HTML myself. Similarly, I thought about [Sphinx](http://sphinx-doc.org/) with [reStructuredText](http://docutils.sourceforge.net/rst.html), but that needs a working LaTeX environment to produce PDFs.\n",
    "\n",
    "For the actual HTML to PDF conversoin, some options include xhtml2pdf (which wraps reportlab) and [pdfkit](https://pypi.python.org/pypi/pdfkit) which wraps [wkhtmltopdf](http://wkhtmltopdf.org/). I didn't like the looks of their PDFs, so I went with [Weasyprint](http://weasyprint.org/).\n",
    "\n",
    "For the wordcloud, I used the free [Raleway](http://www.fontsquirrel.com/fonts/raleway) font, downloaded via [FontSquirrel](http://www.fontsquirrel.com/fonts/list/popular)."
   ]
  },
  {
   "cell_type": "markdown",
   "metadata": {},
   "source": [
    "# Parsing the Excel\n",
    "\n",
    "There are a few good Excel parsers these days, but [pandas](http://pandas.pydata.org/) is nice and standard. It also understands XLS files in addition to XLSX, which is important since we don't want to make people convert to XLSX by hand in order to use a different parse.\n",
    "\n",
    "In this case, we need to know the structure of the XLS documents. There should be two sheets. The first (called \"RawData\") contains columns like \"Path\" \"CourseCode\" etc. and then \"Question_1\", \"Question_2\" etc. The second (called \"QuestionMapper\") contains \"Question 1\" etc. in column A and the text of the question in column B.\n",
    "\n",
    "The first row is a header in both cases.\n",
    "\n",
    "I have no idea how fragile this structure is, so I'll explicitly refer to the sheets by name. That way, there's a decent chance this script will break if someone changes the underlying format."
   ]
  },
  {
   "cell_type": "markdown",
   "metadata": {},
   "source": [
    "# Running the thing!\n",
    "\n",
    "To run this, all you need to do is change the `xl_filename` in the cell below, then run all of the cells.\n",
    "\n",
    "This will create an HTML file, a wordcloud png, and a PDF all in the same directory as your Excel file."
   ]
  },
  {
   "cell_type": "code",
   "execution_count": 1,
   "metadata": {
    "collapsed": true
   },
   "outputs": [],
   "source": [
    "xl_filename = 'data/Mathematical-Physics-(Spring-2015).xlsx'"
   ]
  },
  {
   "cell_type": "code",
   "execution_count": 2,
   "metadata": {
    "collapsed": false
   },
   "outputs": [],
   "source": [
    "%matplotlib inline\n",
    "import os\n",
    "from collections import Counter\n",
    "from matplotlib import pyplot as plt\n",
    "from wordcloud import WordCloud, STOPWORDS\n",
    "import pandas as pd, numpy as np\n",
    "from IPython.display import display, HTML \n",
    "from weasyprint import HTML as weasyHTML\n",
    "pdf_filename = os.path.splitext(xl_filename)[0] + '.pdf'\n",
    "html_filename = os.path.splitext(xl_filename)[0] + '.html'\n",
    "wc_filename = os.path.splitext(xl_filename)[0] + '-wordcloud.png'\n",
    "answers = pd.io.excel.read_excel(xl_filename,sheetname='RawData')\n",
    "questionmap = pd.io.excel.read_excel(xl_filename,sheetname='QuestionMapper')"
   ]
  },
  {
   "cell_type": "markdown",
   "metadata": {},
   "source": [
    "We want a per-student list of questions and answers. My first thought is to stick everything into a dictionary. We want to make sure to return the results in the correct order, so we could use an ordered dict. I think it's easier just to keep an ordered list of questions."
   ]
  },
  {
   "cell_type": "code",
   "execution_count": 3,
   "metadata": {
    "collapsed": false
   },
   "outputs": [],
   "source": [
    "questions = questionmap[\"Question\"].values"
   ]
  },
  {
   "cell_type": "code",
   "execution_count": 4,
   "metadata": {
    "collapsed": false
   },
   "outputs": [
    {
     "name": "stdout",
     "output_type": "stream",
     "text": [
      "[u'What were the most positive features of this course?'\n",
      " u'What is your assessment of the design, materials and assignments in this course?'\n",
      " u'How could this course be improved next time it is offered?'\n",
      " u\"How well were\\xa0[InstructorName] 's objectives (stated or implied) fulfilled?\"\n",
      " u\"What were [InstructorName]'s strongest contributions to this course?\"\n",
      " u\"How could [InstructorName]'s teaching be improved?\"\n",
      " u'What influence did\\xa0[InstructorName] have on your interest in this subject?'\n",
      " u'In the space below, please provide a statement about the quality of your performance in this course.'\n",
      " u'Students are expected to sign these forms (by adding your name), and should know that unsigned forms are unlikely to be taken seriously by evaluating committees.']\n"
     ]
    }
   ],
   "source": [
    "print questions"
   ]
  },
  {
   "cell_type": "markdown",
   "metadata": {},
   "source": [
    "About the below code:\n",
    "\n",
    "When we iterate through the rows, `idx` is the number of the row, and `qd` comes to us as the \"question dictionary\" where row 1 is expected to name the columns, and we can then look up entries by name. For example, column A happens to be \"Column\" and column B is \"Question\", so asking for `qd['Question']` gets the thing in column B.\n",
    "\n",
    "`qm` is then my \"question map\": it maps something like \"Question 1\" to \"What were the most positive features of this course\"\n"
   ]
  },
  {
   "cell_type": "code",
   "execution_count": 5,
   "metadata": {
    "collapsed": false
   },
   "outputs": [],
   "source": [
    "#qm will map the column names (Question_1) to question text\n",
    "qm = {}\n",
    "for (idx,qd) in questionmap.iterrows():\n",
    "    qn = qd['Column'].replace(' ','_')\n",
    "    qt = qd['Question']\n",
    "    qm[qn] = qt"
   ]
  },
  {
   "cell_type": "code",
   "execution_count": 6,
   "metadata": {
    "collapsed": false
   },
   "outputs": [
    {
     "name": "stdout",
     "output_type": "stream",
     "text": [
      "{u'Question_3': u'How could this course be improved next time it is offered?', u'Question_2': u'What is your assessment of the design, materials and assignments in this course?', u'Question_1': u'What were the most positive features of this course?', u'Question_7': u'What influence did\\xa0[InstructorName] have on your interest in this subject?', u'Question_6': u\"How could [InstructorName]'s teaching be improved?\", u'Question_5': u\"What were [InstructorName]'s strongest contributions to this course?\", u'Question_4': u\"How well were\\xa0[InstructorName] 's objectives (stated or implied) fulfilled?\", u'Question_9': u'Students are expected to sign these forms (by adding your name), and should know that unsigned forms are unlikely to be taken seriously by evaluating committees.', u'Question_8': u'In the space below, please provide a statement about the quality of your performance in this course.'}\n"
     ]
    }
   ],
   "source": [
    "print qm"
   ]
  },
  {
   "cell_type": "markdown",
   "metadata": {},
   "source": [
    "Now let's grab the data that should be common to all rows"
   ]
  },
  {
   "cell_type": "code",
   "execution_count": 7,
   "metadata": {
    "collapsed": false
   },
   "outputs": [],
   "source": [
    "path = answers.Path[0]\n",
    "course_code = answers.CourseCode[0]\n",
    "course_title = answers.CourseTitle[0]\n",
    "instructor_name = answers.InstructorName[0]\n",
    "enrollments = answers.Enrollments[0]\n",
    "# We know we're not extracting the following from each row, so keep quiet about it later.\n",
    "knownskips = ['Path','CourseCode','CourseTitle','UniqueID','InstructorName','Enrollments']"
   ]
  },
  {
   "cell_type": "markdown",
   "metadata": {},
   "source": [
    "And now let's slurp up the data per student."
   ]
  },
  {
   "cell_type": "code",
   "execution_count": 8,
   "metadata": {
    "collapsed": false
   },
   "outputs": [],
   "source": [
    "a = {}\n",
    "for (idx,student) in answers.iterrows():\n",
    "    a[idx] = {}\n",
    "    for colname in answers.columns:\n",
    "        col_name = colname.replace(' ','_')\n",
    "        if col_name in qm:\n",
    "            #print \"Looking up\",col_name\n",
    "            a[idx][qm[col_name]] = student[colname]\n",
    "        else:\n",
    "            if colname not in knownskips:\n",
    "                print \"Could not find\",colname"
   ]
  },
  {
   "cell_type": "markdown",
   "metadata": {},
   "source": [
    "Now we're ready to stamp out the text, believe it or not. The only cute thing is that `pandas` uses nan (\"not a number\") to represent missing data. We'll use `numpy` (imported above as `np`) to test for nan, and turn it into \"No answer given.\""
   ]
  },
  {
   "cell_type": "code",
   "execution_count": 9,
   "metadata": {
    "collapsed": false
   },
   "outputs": [
    {
     "data": {
      "text/plain": [
       "u\"The wide array of mathematical tools we learned how to use. The course covered so much, I'm a little surprised we managed to get through so much and still be able to understand everything.\""
      ]
     },
     "execution_count": 9,
     "metadata": {},
     "output_type": "execute_result"
    }
   ],
   "source": [
    "a[0][questions[0]]"
   ]
  },
  {
   "cell_type": "code",
   "execution_count": 10,
   "metadata": {
    "collapsed": true
   },
   "outputs": [],
   "source": [
    "def is_nan(x): \n",
    "    try: return np.isnan(x) \n",
    "    except: return False #isnan only eats strings\n"
   ]
  },
  {
   "cell_type": "code",
   "execution_count": 11,
   "metadata": {
    "collapsed": true
   },
   "outputs": [],
   "source": [
    "css = \"\"\"\n",
    "p.large-headline {\n",
    "    font-family: times, Times New Roman, times-roman, georgia, serif;\n",
    "    color: #444;\n",
    "    margin: 0px 0px 100px 0px;\n",
    "    padding: 40px 40px 40px 40px;\n",
    "    font-size: 55px;\n",
    "    line-height: 44px;\n",
    "    letter-spacing: -1px;\n",
    "    font-weight: bold;\n",
    "    text-align: center;\n",
    "    border-radius: 25px;\n",
    "    border: 2px solid #111;\n",
    "    width: 90%;\n",
    "}\n",
    "\n",
    "p.medium-headline {\n",
    "    font-family: times, Times New Roman, times-roman, georgia, serif;\n",
    "    color: #444;\n",
    "    margin: 0px -10px 0px 0px;\n",
    "    padding: 0px 0px 0px 0px;\n",
    "    font-size: 25px;\n",
    "    line-height: 24px;\n",
    "    letter-spacing: -1px;\n",
    "    font-weight: bold;\n",
    "    text-align: left;\n",
    "}\n",
    "\n",
    "p.name {\n",
    "    font-family: times, Times New Roman, times-roman, georgia, serif;\n",
    "    font-weight: bold;\n",
    "    font-size: 20px;\n",
    "    margin-top: 2em;\n",
    "    margin-bottom: 0em;\n",
    "}\n",
    "p.question {\n",
    "    font-family: times, Times New Roman, times-roman, georgia, serif;\n",
    "    font-size: 18px;\n",
    "    color: #111;\n",
    "    font-weight: bold;\n",
    "    margin-top: 0em;\n",
    "    margin-bottom: 0em;\n",
    "    width: 90%;\n",
    "}\n",
    "p.answer {\n",
    "    font-family: times, Times New Roman, times-roman, georgia, serif;\n",
    "    font-size: 18px;\n",
    "    color: #111;\n",
    "    text-align: justify;\n",
    "    margin-top: 0em;\n",
    "    margin-bottom: 0em;\n",
    "    width: 90%;\n",
    "}\n",
    "table\n",
    "{\n",
    "  border-collapse: collapse;\n",
    "}\n",
    "th\n",
    "{\n",
    "  color: #ffffff;\n",
    "  background-color: #000000;\n",
    "}\n",
    "td\n",
    "{\n",
    "  background-color: #cccccc;\n",
    "}\n",
    "table, th, td\n",
    "{\n",
    "  font-family:Arial, Helvetica, sans-serif;\n",
    "  border: 1px solid black;\n",
    "  text-align: right;\n",
    "}\n",
    "\"\"\""
   ]
  },
  {
   "cell_type": "code",
   "execution_count": 12,
   "metadata": {
    "collapsed": false
   },
   "outputs": [],
   "source": [
    "html = '''\n",
    "<html>\n",
    "<head>\n",
    "<style>\n",
    "{css}\n",
    "</style>\n",
    "</head>\n",
    "<body>\n",
    "<div>\n",
    "<p class=\"large-headline\">{title}</p>\n",
    "<p class=\"medium-headline\">{code}<br>{instructor}<br>Answers from {a} of {b} enrolled students</p>\n",
    "<div>'''.format(css=css,\n",
    "    title=course_title,code=course_code,instructor=instructor_name,\n",
    "    a=len(a),b=enrollments\n",
    ")"
   ]
  },
  {
   "cell_type": "code",
   "execution_count": 13,
   "metadata": {
    "collapsed": false
   },
   "outputs": [],
   "source": [
    "answertext = ''\n",
    "for idx in sorted(a):\n",
    "    html += '''<div class=\"response\">\n",
    "    <p class=\"name\">Student {i} ({n})</p>\n",
    "    '''.format(\n",
    "            i=idx+1, n=a[idx][questions[-1]]\n",
    "        )\n",
    "    for question in questions[:-1]:\n",
    "        question_cor_name = question.replace(\"[InstructorName]\", instructor_name)\n",
    "        if u'\\xa0' in question_cor_name: \n",
    "            question_cor_name = question_cor_name.replace(u'\\xa0', u' ') #Corrects for unicode encoding error\n",
    "        answer = a[idx][question]\n",
    "        if is_nan(answer):\n",
    "            answer = 'No answer given.'\n",
    "        else:\n",
    "            answertext = answertext + ' ' + answer\n",
    "        html += '''<p class=\"question\">{q}</p>\n",
    "        <p class=\"answer\">{a}</p>\n",
    "        '''.format(q=question_cor_name,a=answer)\n",
    "    html += '</div>'"
   ]
  },
  {
   "cell_type": "code",
   "execution_count": 14,
   "metadata": {
    "collapsed": false
   },
   "outputs": [
    {
     "data": {
      "image/png": "[encoded data removed]",
      "text/plain": [
       "<matplotlib.figure.Figure at 0x7fdf6551d610>"
      ]
     },
     "metadata": {},
     "output_type": "display_data"
    }
   ],
   "source": [
    "#fig = plt.figure(figsize=(18,14))\n",
    "wordcloud = WordCloud(\n",
    "                      font_path='Fonts/Raleway-Bold.ttf',\n",
    "                      stopwords=STOPWORDS,\n",
    "                      background_color='white',\n",
    "                      width=1800,\n",
    "                      height=1600\n",
    "                     ).generate(answertext)\n",
    "plt.imshow(wordcloud)\n",
    "plt.axis('off')\n",
    "plt.savefig(wc_filename, dpi=300)"
   ]
  },
  {
   "cell_type": "code",
   "execution_count": 15,
   "metadata": {
    "collapsed": true
   },
   "outputs": [],
   "source": [
    "c = Counter([i for i in answertext.lower().split() if i not in STOPWORDS])\n",
    "#for (w,n) in c.most_common(20):\n",
    "#    print \"{w:20s}: {n:4d}\".format(w=w,n=n)"
   ]
  },
  {
   "cell_type": "code",
   "execution_count": 16,
   "metadata": {
    "collapsed": false
   },
   "outputs": [],
   "source": [
    "html += '''<div class=\"content-analysis\">\n",
    "<img src=\"{wc}\" style=\"width:720px;height:560px;\"/>\n",
    "<table>\n",
    "  <caption>Most common words</caption>\n",
    "  <tr><th>Word</th><th>Count</th></tr>\n",
    "'''.format(wc=os.path.split(wc_filename)[-1])\n",
    "for (w,n) in c.most_common(20):\n",
    "    html += '<tr><td>{w}</td><td>{n}</td></tr>\\n'.format(w=w,n=n)\n",
    "html += '''</table>\n",
    "</div>\n",
    "</body>\n",
    "</html>'''"
   ]
  },
  {
   "cell_type": "code",
   "execution_count": 17,
   "metadata": {
    "collapsed": false
   },
   "outputs": [],
   "source": [
    "#open(html_filename,'w').write(html)"
   ]
  },
  {
   "cell_type": "code",
   "execution_count": 18,
   "metadata": {
    "collapsed": false,
    "scrolled": false
   },
   "outputs": [
    {
     "data": {
      "text/html": [
       "\n",
       "<html>\n",
       "<head>\n",
       "<style>\n",
       "\n",
       "p.large-headline {\n",
       "    font-family: times, Times New Roman, times-roman, georgia, serif;\n",
       "    color: #444;\n",
       "    margin: 0px 0px 100px 0px;\n",
       "    padding: 40px 40px 40px 40px;\n",
       "    font-size: 55px;\n",
       "    line-height: 44px;\n",
       "    letter-spacing: -1px;\n",
       "    font-weight: bold;\n",
       "    text-align: center;\n",
       "    border-radius: 25px;\n",
       "    border: 2px solid #111;\n",
       "    width: 90%;\n",
       "}\n",
       "\n",
       "p.medium-headline {\n",
       "    font-family: times, Times New Roman, times-roman, georgia, serif;\n",
       "    color: #444;\n",
       "    margin: 0px -10px 0px 0px;\n",
       "    padding: 0px 0px 0px 0px;\n",
       "    font-size: 25px;\n",
       "    line-height: 24px;\n",
       "    letter-spacing: -1px;\n",
       "    font-weight: bold;\n",
       "    text-align: left;\n",
       "}\n",
       "\n",
       "p.name {\n",
       "    font-family: times, Times New Roman, times-roman, georgia, serif;\n",
       "    font-weight: bold;\n",
       "    font-size: 20px;\n",
       "    margin-top: 2em;\n",
       "    margin-bottom: 0em;\n",
       "}\n",
       "p.question {\n",
       "    font-family: times, Times New Roman, times-roman, georgia, serif;\n",
       "    font-size: 18px;\n",
       "    color: #111;\n",
       "    font-weight: bold;\n",
       "    margin-top: 0em;\n",
       "    margin-bottom: 0em;\n",
       "    width: 90%;\n",
       "}\n",
       "p.answer {\n",
       "    font-family: times, Times New Roman, times-roman, georgia, serif;\n",
       "    font-size: 18px;\n",
       "    color: #111;\n",
       "    text-align: justify;\n",
       "    margin-top: 0em;\n",
       "    margin-bottom: 0em;\n",
       "    width: 90%;\n",
       "}\n",
       "table\n",
       "{\n",
       "  border-collapse: collapse;\n",
       "}\n",
       "th\n",
       "{\n",
       "  color: #ffffff;\n",
       "  background-color: #000000;\n",
       "}\n",
       "td\n",
       "{\n",
       "  background-color: #cccccc;\n",
       "}\n",
       "table, th, td\n",
       "{\n",
       "  font-family:Arial, Helvetica, sans-serif;\n",
       "  border: 1px solid black;\n",
       "  text-align: right;\n",
       "}\n",
       "\n",
       "</style>\n",
       "</head>\n",
       "<body>\n",
       "<div>\n",
       "<p class=\"large-headline\">Mathematical Physics (Spring 2015)</p>\n",
       "<p class=\"medium-headline\">PHYS.MATH360-0:201520<br>Michael Lerner<br>Answers from 5 of 5 enrolled students</p>\n",
       "<div><div class=\"response\">\n",
       "    <p class=\"name\">Student 1 (Nicholas Archer)</p>\n",
       "    <p class=\"question\">What were the most positive features of this course?</p>\n",
       "        <p class=\"answer\">The wide array of mathematical tools we learned how to use. The course covered so much, I'm a little surprised we managed to get through so much and still be able to understand everything.</p>\n",
       "        <p class=\"question\">What is your assessment of the design, materials and assignments in this course?</p>\n",
       "        <p class=\"answer\">The textbook was an absolute God send. Boas was amazing and intuitive. The other DE book, well I have my qualms with it but it's thorough with the examples. Michael's notes were also very thorough and easy to understand.</p>\n",
       "        <p class=\"question\">How could this course be improved next time it is offered?</p>\n",
       "        <p class=\"answer\">My biggest issue with this course was the independent research project. Personally I know I didn't do well on mine but for a lot of reasons I don't think I'm that interested enough in mathematics to feel excited about doing a topic. However, I recognize that I honestly didn't look very much into what I could have done for my project. I just ended up choosing one from the list of suggested topics, which wasn't a smart idea. Even in the other class taught by Michael with this independent research project requirement, even though my chosen topic was something a lot more interesting to me (probably because it was more actual physics than math), it still felt like it was something that I was doing for a grade and not out of my own interest. If anything, I'd prefer if instead of having to write a paper and do a presentation, it should be one or the other, preferably the presentation since we get to learn about other topics. Then again the purpose of the paper, other than the grading would be for your and the professor's understanding. I'd honestly prefer if this wasn't a required assignment for this class, and to be substituted by something else appropriate. As for what that could be? Nothing comes to mind.</p>\n",
       "        <p class=\"question\">How well were Michael Lerner 's objectives (stated or implied) fulfilled?</p>\n",
       "        <p class=\"answer\">Confidently stated, fully fulfilled.</p>\n",
       "        <p class=\"question\">What were Michael Lerner's strongest contributions to this course?</p>\n",
       "        <p class=\"answer\">This guy is a Python wiz. I think he should teach a CS/PHYS class on python modeling of physical systems. He was very knowledgable of everything, and he's a lot more confident than my last class with him in freshman year. Above all, Michael is very human, and knows that sometimes bad things happen and will work with you if it becomes a problem with getting work done. He's probably the most dedicated teacher to his students I've met at this place.</p>\n",
       "        <p class=\"question\">How could Michael Lerner's teaching be improved?</p>\n",
       "        <p class=\"answer\">My problem with this course was really just the independent project. I don't have any criticisms of Michael's teaching. He does shine in smaller classes though!  I want to say to improve on his organization but I can only think of two times the entire semester where I thought it was a problem? Michael should get as much sleep as possible when he can though.</p>\n",
       "        <p class=\"question\">What influence did Michael Lerner have on your interest in this subject?</p>\n",
       "        <p class=\"answer\">I like math, but I'm not good at it. Especially when it gets into things that I'm not used to seeing every day. It doesn't have anything to do with Michael, I'm just not a fan of upper level math classes.</p>\n",
       "        <p class=\"question\">In the space below, please provide a statement about the quality of your performance in this course.</p>\n",
       "        <p class=\"answer\">I started off strong in this course, the first midterm dropped my grade to a B+, then I did really well on the first test. But I lost the motivation to keep working as hard post-Spring break. The concepts were getting much harder to understand for me - it probably doesn't help that I missed a sizable amount of classes. That was a poor lifestyle choice on my part. I got behind in one class and the rest just kind of fell apart after. Missing classes to catch up on other work was not a good idea, and this class probably suffered the most because of it. My independent project was absolutely terrible, both the paper and the presentation. I probably really let Michael down in the end. I don't think I failed but I'm praying I get at least a C.</p>\n",
       "        </div><div class=\"response\">\n",
       "    <p class=\"name\">Student 2 (Mitchel Dull)</p>\n",
       "    <p class=\"question\">What were the most positive features of this course?</p>\n",
       "        <p class=\"answer\">It was a very intimate setting.  There were five of us and Michael was able to often speak with us personally.  It was wonderful for learning.</p>\n",
       "        <p class=\"question\">What is your assessment of the design, materials and assignments in this course?</p>\n",
       "        <p class=\"answer\">They were difficult, being a 300 level physics course, but nothing we could not handle.  I feel they were fine for the class.  The only difference I would make is that we were a little blind going in to the final project.  We had a theme, but kind of went our own ways from there, which I feel was negatively expressed in the final presentations.  For next year, I would definitely be more specific, go over it some more.  I realize I could have asked, but time got away from me.  For that I apologize, but I fear I was not the only one.</p>\n",
       "        <p class=\"question\">How could this course be improved next time it is offered?</p>\n",
       "        <p class=\"answer\">See question II.  Also, I realize that it will probably happen anyway, but I would keep the enrollment limit small.</p>\n",
       "        <p class=\"question\">How well were Michael Lerner 's objectives (stated or implied) fulfilled?</p>\n",
       "        <p class=\"answer\">Wonderfully.  Michael accomplished his goals with the course and we had fun doing it.</p>\n",
       "        <p class=\"question\">What were Michael Lerner's strongest contributions to this course?</p>\n",
       "        <p class=\"answer\">Michael was extremely approachable.  If we had a question or needed help, it was no pressure to go see Michael.  Sometimes one is intimidated to go see a professor, but this was not the case.</p>\n",
       "        <p class=\"question\">How could Michael Lerner's teaching be improved?</p>\n",
       "        <p class=\"answer\">pass.</p>\n",
       "        <p class=\"question\">What influence did Michael Lerner have on your interest in this subject?</p>\n",
       "        <p class=\"answer\">I am still a physics major.  Interpret that as you will.</p>\n",
       "        <p class=\"question\">In the space below, please provide a statement about the quality of your performance in this course.</p>\n",
       "        <p class=\"answer\">I, unfortunately, had some trouble with my depression this year.  Michael was super understanding and supportive, though, which was wonderful.</p>\n",
       "        </div><div class=\"response\">\n",
       "    <p class=\"name\">Student 3 (Alex Seewald)</p>\n",
       "    <p class=\"question\">What were the most positive features of this course?</p>\n",
       "        <p class=\"answer\">Most times I feel like the class was designed to be as helpful as possible and what I got out of it was directly related to how much I put into it (with little distraction, etc).  I like how we concluded things with the FRAP homework and a final project. The FRAP homework was more or less cumulative, and it was great to see what we're doing apply to something physical (if not for the last few weeks when we looked at strings and drum heads and FRAP, I would have said we didn't do enough physical stuff).</p>\n",
       "        <p class=\"question\">What is your assessment of the design, materials and assignments in this course?</p>\n",
       "        <p class=\"answer\">I have mixed views about the Boas book. It is not polished and does not have quality graphs and diagrams, but also it is well-written and cheap and approachable. Michael's handouts and notebooks were excellent. The workload and difficulty of the homeworks was appropriate. I prefer hard tests with lower expectations of correctness/completeness to easy tests with higher expectations (which I feel is what this class did), but I'm not going to say that's the Right Thing To Do.</p>\n",
       "        <p class=\"question\">How could this course be improved next time it is offered?</p>\n",
       "        <p class=\"answer\">I didn't follow the two Noerther's theorem lectures very well because there's a lot of ins and outs and terminology. I later read back through some of the text's presentation of calculus of variations and Michael's handout and I sort of get it, but there's just so much going on that I feel we need to double the time spent on it or remove Noerther's theorem. Michael wanted Noerther's theorem in the class because it is \"beautiful\", which I think is the perception one has of after working with it significantly and returning to the idea a number of times. It is *not* the perception I have having mostly secondhand knowledge of it, so if that's the point then it's not working out (for me at least). We had a problem with people's amount of participation in the class, which I'm sure you'll be talking about and I don't have ideas about.</p>\n",
       "        <p class=\"question\">How well were Michael Lerner 's objectives (stated or implied) fulfilled?</p>\n",
       "        <p class=\"answer\">Michael acknowledged that people come to the class for a number of reasons, making having an independent project especially important.</p>\n",
       "        <p class=\"question\">What were Michael Lerner's strongest contributions to this course?</p>\n",
       "        <p class=\"answer\">Michael conveys a lot of respect for people around him. He also makes good jokes, like in Mitchell's DFT presentation when Mitchell asked \"Does anyone know why we use N=4\" and Michael responded \"Because we're doing FOURier analysis?\". Without these two qualities, I expect that issue with participation in the class would have been worse.</p>\n",
       "        <p class=\"question\">How could Michael Lerner's teaching be improved?</p>\n",
       "        <p class=\"answer\">What I said about the way we covered Noerther's theorem.  One time Michael sent out an email asking people to show up to class, which was absolutely the right thing to do, but in his position I would've sent out that email a few weeks earlier and been a little more insistent. Michael is clearly committed to being/seeming nice, but reminders of people's obligations can be necessary and can be done nicely. Michael never fed us, compared to Ellen who fed us a number of times in Modern and Adam who gave us candy sometimes. This should really go in the class objectives next time so he doesn't forget.</p>\n",
       "        <p class=\"question\">What influence did Michael Lerner have on your interest in this subject?</p>\n",
       "        <p class=\"answer\">Not much to say except at this point my interest in physics is pretty stable and working around people like Michael is nice.</p>\n",
       "        <p class=\"question\">In the space below, please provide a statement about the quality of your performance in this course.</p>\n",
       "        <p class=\"answer\">I feel I put the intended amount of effort into this class and got out of it what I hoped (namely, knowledge about applying differential equations to physics problems, familiarity with techniques like orthogonality tricks and series solutions that I likely wouldn't come up with myself), except I really botched the presentation of my independent project (doing such improvised explanations of stuff I understand pretty well usually goes fine, but it will probably motivate me to do better now that I've failed significantly but not catastrophically).</p>\n",
       "        </div><div class=\"response\">\n",
       "    <p class=\"name\">Student 4 (Gwendolyn Claflin)</p>\n",
       "    <p class=\"question\">What were the most positive features of this course?</p>\n",
       "        <p class=\"answer\">I don't know. (Sorry Michael)</p>\n",
       "        <p class=\"question\">What is your assessment of the design, materials and assignments in this course?</p>\n",
       "        <p class=\"answer\">They were good.</p>\n",
       "        <p class=\"question\">How could this course be improved next time it is offered?</p>\n",
       "        <p class=\"answer\">I would like to understand better the connection between a Fourier transform and a Laplace transform other than the fact that they look similar and are both transforms.  Perhaps I simply failed to do the homework on convolutions, but I definitely think that such a homework assignment would be useful, since I struggled with that. Particularly when thinking about different kinds of convolutions.  (Perhaps I missed that class period.) How do Fourrier and Laplace convolutions differ, etc.</p>\n",
       "        <p class=\"question\">How well were Michael Lerner 's objectives (stated or implied) fulfilled?</p>\n",
       "        <p class=\"answer\">I think they were met well.</p>\n",
       "        <p class=\"question\">What were Michael Lerner's strongest contributions to this course?</p>\n",
       "        <p class=\"answer\">I'm not sure. Michael puts a lot of energy into his classes, and prep-work. He gives us supplementary material, and picks the problems with care.  He has a lot of good contributions.</p>\n",
       "        <p class=\"question\">How could Michael Lerner's teaching be improved?</p>\n",
       "        <p class=\"answer\">If the students showed up to class.</p>\n",
       "        <p class=\"question\">What influence did Michael Lerner have on your interest in this subject?</p>\n",
       "        <p class=\"answer\">The first time I took this course I questioned whether or not I could continue in physics, but this second time it was clear that I knew a lot more than I thought I knew.  I guess I don't know.</p>\n",
       "        <p class=\"question\">In the space below, please provide a statement about the quality of your performance in this course.</p>\n",
       "        <p class=\"answer\">I did okay in this course. I did not invest as much effort in this class as I did in Thermal or Senior Seminar, because I had already taken this course once and the same amount of effort was not necessary.  But I think I did well since I did most of the homework and I understood all of the concepts.</p>\n",
       "        </div><div class=\"response\">\n",
       "    <p class=\"name\">Student 5 (Wilson Lin)</p>\n",
       "    <p class=\"question\">What were the most positive features of this course?</p>\n",
       "        <p class=\"answer\">I really liked the large breadth of this course. I have encountered many of the topics covered in this course before and it was fun to actually understand them at a deeper level.</p>\n",
       "        <p class=\"question\">What is your assessment of the design, materials and assignments in this course?</p>\n",
       "        <p class=\"answer\">I felt that the course was disjointed at times. With us jumping from topic to topic, there were times where I did not know what direction we were going with what we were doing, which was something unfamiliar in a math course.  Although this might be inevitable due to the goal of this course with is to expose us to several mathematical techniques and form a toolbox.</p>\n",
       "        <p class=\"question\">How could this course be improved next time it is offered?</p>\n",
       "        <p class=\"answer\">Although the in class workdays for our project were helpful, I think that the current amount of scheduled days surpasses the point where the law of diminishing returns say that we should stop. I can't help but feel that one or two of the workdays could have been spent doing something else.</p>\n",
       "        <p class=\"question\">How well were Michael Lerner 's objectives (stated or implied) fulfilled?</p>\n",
       "        <p class=\"answer\">Well.</p>\n",
       "        <p class=\"question\">What were Michael Lerner's strongest contributions to this course?</p>\n",
       "        <p class=\"answer\">Designing and instructing it. Also the ipython notebooks that Michael wrote were invaluable at helping me understand several topics like the Fourier series and the convolution.</p>\n",
       "        <p class=\"question\">How could Michael Lerner's teaching be improved?</p>\n",
       "        <p class=\"answer\">No answer given.</p>\n",
       "        <p class=\"question\">What influence did Michael Lerner have on your interest in this subject?</p>\n",
       "        <p class=\"answer\">Monotonically increasing on all topics.</p>\n",
       "        <p class=\"question\">In the space below, please provide a statement about the quality of your performance in this course.</p>\n",
       "        <p class=\"answer\">No answer given.</p>\n",
       "        </div><div class=\"content-analysis\">\n",
       "<img src=\"data/Mathematical-Physics-(Spring-2015)-wordcloud.png\" style=\"width:720px;height:560px;\"/>\n",
       "<table>\n",
       "  <caption>Most common words</caption>\n",
       "  <tr><th>Word</th><th>Count</th></tr>\n",
       "<tr><td>michael</td><td>18</td></tr>\n",
       "<tr><td>class</td><td>15</td></tr>\n",
       "<tr><td>course</td><td>9</td></tr>\n",
       "<tr><td>think</td><td>9</td></tr>\n",
       "<tr><td>feel</td><td>8</td></tr>\n",
       "<tr><td>much</td><td>8</td></tr>\n",
       "<tr><td>lot</td><td>8</td></tr>\n",
       "<tr><td>one</td><td>7</td></tr>\n",
       "<tr><td>us</td><td>7</td></tr>\n",
       "<tr><td>something</td><td>6</td></tr>\n",
       "<tr><td>really</td><td>6</td></tr>\n",
       "<tr><td>probably</td><td>6</td></tr>\n",
       "<tr><td>understand</td><td>6</td></tr>\n",
       "<tr><td>independent</td><td>6</td></tr>\n",
       "<tr><td>well</td><td>6</td></tr>\n",
       "<tr><td>time</td><td>6</td></tr>\n",
       "<tr><td>amount</td><td>5</td></tr>\n",
       "<tr><td>project</td><td>5</td></tr>\n",
       "<tr><td>physics</td><td>5</td></tr>\n",
       "<tr><td>homework</td><td>5</td></tr>\n",
       "</table>\n",
       "</div>\n",
       "</body>\n",
       "</html>"
      ],
      "text/plain": [
       "<IPython.core.display.HTML object>"
      ]
     },
     "metadata": {},
     "output_type": "display_data"
    }
   ],
   "source": [
    "display(HTML(html.replace(os.path.split(wc_filename)[-1],wc_filename))) "
   ]
  },
  {
   "cell_type": "code",
   "execution_count": 19,
   "metadata": {
    "collapsed": false
   },
   "outputs": [],
   "source": [
    "#!weasyprint \"{html_filename}\" \"{pdf_filename}\""
   ]
  },
  {
   "cell_type": "code",
   "execution_count": 20,
   "metadata": {
    "collapsed": true
   },
   "outputs": [],
   "source": [
    "weasyHTML(html_filename).write_pdf(pdf_filename)"
   ]
  }
 ],
 "metadata": {
  "kernelspec": {
   "display_name": "Python 2",
   "language": "python",
   "name": "python2"
  },
  "language_info": {
   "codemirror_mode": {
    "name": "ipython",
    "version": 2
   },
   "file_extension": ".py",
   "mimetype": "text/x-python",
   "name": "python",
   "nbconvert_exporter": "python",
   "pygments_lexer": "ipython2",
   "version": "2.7.10"
  }
 },
 "nbformat": 4,
 "nbformat_minor": 0
}
