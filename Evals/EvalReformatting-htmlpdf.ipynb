{
 "cells": [
  {
   "cell_type": "markdown",
   "metadata": {},
   "source": [
    "# Overview\n",
    "\n",
    "You can either run this as a notebook, changing one variable below, or use the command-line `makepdf.py` script.\n",
    "\n",
    "# Requirements\n",
    "\n",
    " * The standard scientific Python stack, which comes with the [Anaconda](https://store.continuum.io/cshop/anaconda/) Python distribution ... that's what you should be using anyway.\n",
    " * [wordcloud](https://github.com/amueller/word_cloud) which can be installed with `pip install git+git://github.com/amueller/word_cloud.git` and requires [PIL](http://effbot.org/imagingbook/pil-index.htm) (PIL comes with the Anaconda Python distribution)\n",
    " * [Weasyprint](http://weasyprint.org/). It has some dependencies. You should be able to `pip install weasyprint`."
   ]
  },
  {
   "cell_type": "markdown",
   "metadata": {},
   "source": [
    "# Strategy\n",
    "\n",
    "In the end, we want a nice looking PDF document. There are quite a few tools for generating PDFs. The most popular is [reportlab](https://pypi.python.org/pypi/reportlab) (people seem to recommend reportlab's [platypus](http://www.reportlab.com/apis/reportlab/2.4/platypus.html) for \"simple\" pdf [generation](https://www.reportlab.com/docs/platypus-example.py)). I wanted something a little easier to control. I thought about using [Markdown](http://daringfireball.net/projects/markdown/syntax) document (see [CommonMark](http://commonmark.org/)) as intermediate format, and using [python-markdown2](https://github.com/trentm/python-markdown2) to generate HTML and [xhtml2pdf](https://github.com/chrisglass/xhtml2pdf) to generate the PDF (similar to what is [done](https://omz-forums.appspot.com/pythonista/post/6427727661891584) [here](https://gist.github.com/SpotlightKid/0efb4d07f28af1c8fc1b)). In the end, it seemed easier to just write out the simple HTML myself. Similarly, I thought about [Sphinx](http://sphinx-doc.org/) with [reStructuredText](http://docutils.sourceforge.net/rst.html), but that needs a working LaTeX environment to produce PDFs.\n",
    "\n",
    "For the actual HTML to PDF conversoin, some options include xhtml2pdf (which wraps reportlab) and [pdfkit](https://pypi.python.org/pypi/pdfkit) which wraps [wkhtmltopdf](http://wkhtmltopdf.org/). I didn't like the looks of their PDFs, so I went with [Weasyprint](http://weasyprint.org/).\n",
    "\n",
    "For the wordcloud, I used the free [Raleway](http://www.fontsquirrel.com/fonts/raleway) font, downloaded via [FontSquirrel](http://www.fontsquirrel.com/fonts/list/popular)."
   ]
  },
  {
   "cell_type": "markdown",
   "metadata": {},
   "source": [
    "# Parsing the Excel\n",
    "\n",
    "There are a few good Excel parsers these days, but [pandas](http://pandas.pydata.org/) is nice and standard. It also understands XLS files in addition to XLSX, which is important since we don't want to make people convert to XLSX by hand in order to use a different parse.\n",
    "\n",
    "In this case, we need to know the structure of the XLS documents. There should be two sheets. The first (called \"RawData\") contains columns like \"Path\" \"CourseCode\" etc. and then \"Question_1\", \"Question_2\" etc. The second (called \"QuestionMapper\") contains \"Question 1\" etc. in column A and the text of the question in column B.\n",
    "\n",
    "The first row is a header in both cases.\n",
    "\n",
    "I have no idea how fragile this structure is, so I'll explicitly refer to the sheets by name. That way, there's a decent chance this script will break if someone changes the underlying format."
   ]
  },
  {
   "cell_type": "markdown",
   "metadata": {},
   "source": [
    "# Running the thing!\n",
    "\n",
    "To run this, all you need to do is change the `xl_filename` in the cell below, then run all of the cells.\n",
    "\n",
    "This will create an HTML file, a wordcloud png, and a PDF all in the same directory as your Excel file."
   ]
  },
  {
   "cell_type": "code",
   "execution_count": 21,
   "metadata": {
    "collapsed": true
   },
   "outputs": [],
   "source": [
    "xl_filename = 'data/Mathematical-Physics-(Spring-2015).xlsx'"
   ]
  },
  {
   "cell_type": "code",
   "execution_count": 22,
   "metadata": {
    "collapsed": false
   },
   "outputs": [],
   "source": [
    "%matplotlib inline\n",
    "import os\n",
    "from collections import Counter\n",
    "from matplotlib import pyplot as plt\n",
    "from wordcloud import WordCloud, STOPWORDS\n",
    "import pandas as pd, numpy as np\n",
    "from IPython.display import display, HTML \n",
    "from weasyprint import HTML as weasyHTML\n",
    "pdf_filename = os.path.splitext(xl_filename)[0] + '.pdf'\n",
    "html_filename = os.path.splitext(xl_filename)[0] + '.html'\n",
    "wc_filename = os.path.splitext(xl_filename)[0] + '-wordcloud.png'\n",
    "answers = pd.io.excel.read_excel(xl_filename,sheetname='RawData')\n",
    "questionmap = pd.io.excel.read_excel(xl_filename,sheetname='QuestionMapper')"
   ]
  },
  {
   "cell_type": "markdown",
   "metadata": {},
   "source": [
    "We want a per-student list of questions and answers. My first thought is to stick everything into a dictionary. We want to make sure to return the results in the correct order, so we could use an ordered dict. I think it's easier just to keep an ordered list of questions."
   ]
  },
  {
   "cell_type": "code",
   "execution_count": 23,
   "metadata": {
    "collapsed": false
   },
   "outputs": [],
   "source": [
    "questions = questionmap[\"Question\"].values"
   ]
  },
  {
   "cell_type": "code",
   "execution_count": 24,
   "metadata": {
    "collapsed": false
   },
   "outputs": [
    {
     "name": "stdout",
     "output_type": "stream",
     "text": [
      "[u'What were the most positive features of this course?'\n",
      " u'What is your assessment of the design, materials and assignments in this course?'\n",
      " u'How could this course be improved next time it is offered?'\n",
      " u\"How well were\\xa0[InstructorName] 's objectives (stated or implied) fulfilled?\"\n",
      " u\"What were [InstructorName]'s strongest contributions to this course?\"\n",
      " u\"How could [InstructorName]'s teaching be improved?\"\n",
      " u'What influence did\\xa0[InstructorName] have on your interest in this subject?'\n",
      " u'In the space below, please provide a statement about the quality of your performance in this course.'\n",
      " u'Students are expected to sign these forms (by adding your name), and should know that unsigned forms are unlikely to be taken seriously by evaluating committees.']\n"
     ]
    }
   ],
   "source": [
    "print questions"
   ]
  },
  {
   "cell_type": "markdown",
   "metadata": {},
   "source": [
    "About the below code:\n",
    "\n",
    "When we iterate through the rows, `idx` is the number of the row, and `qd` comes to us as the \"question dictionary\" where row 1 is expected to name the columns, and we can then look up entries by name. For example, column A happens to be \"Column\" and column B is \"Question\", so asking for `qd['Question']` gets the thing in column B.\n",
    "\n",
    "`qm` is then my \"question map\": it maps something like \"Question 1\" to \"What were the most positive features of this course\"\n"
   ]
  },
  {
   "cell_type": "code",
   "execution_count": 25,
   "metadata": {
    "collapsed": false
   },
   "outputs": [],
   "source": [
    "#qm will map the column names (Question_1) to question text\n",
    "qm = {}\n",
    "for (idx,qd) in questionmap.iterrows():\n",
    "    qn = qd['Column'].replace(' ','_')\n",
    "    qt = qd['Question']\n",
    "    qm[qn] = qt"
   ]
  },
  {
   "cell_type": "code",
   "execution_count": 26,
   "metadata": {
    "collapsed": false
   },
   "outputs": [
    {
     "name": "stdout",
     "output_type": "stream",
     "text": [
      "{u'Question_3': u'How could this course be improved next time it is offered?', u'Question_2': u'What is your assessment of the design, materials and assignments in this course?', u'Question_1': u'What were the most positive features of this course?', u'Question_7': u'What influence did\\xa0[InstructorName] have on your interest in this subject?', u'Question_6': u\"How could [InstructorName]'s teaching be improved?\", u'Question_5': u\"What were [InstructorName]'s strongest contributions to this course?\", u'Question_4': u\"How well were\\xa0[InstructorName] 's objectives (stated or implied) fulfilled?\", u'Question_9': u'Students are expected to sign these forms (by adding your name), and should know that unsigned forms are unlikely to be taken seriously by evaluating committees.', u'Question_8': u'In the space below, please provide a statement about the quality of your performance in this course.'}\n"
     ]
    }
   ],
   "source": [
    "print qm"
   ]
  },
  {
   "cell_type": "markdown",
   "metadata": {},
   "source": [
    "Now let's grab the data that should be common to all rows"
   ]
  },
  {
   "cell_type": "code",
   "execution_count": 27,
   "metadata": {
    "collapsed": false
   },
   "outputs": [],
   "source": [
    "path = answers.Path[0]\n",
    "course_code = answers.CourseCode[0]\n",
    "course_title = answers.CourseTitle[0]\n",
    "instructor_name = answers.InstructorName[0]\n",
    "enrollments = answers.Enrollments[0]\n",
    "# We know we're not extracting the following from each row, so keep quiet about it later.\n",
    "knownskips = ['Path','CourseCode','CourseTitle','UniqueID','InstructorName','Enrollments']"
   ]
  },
  {
   "cell_type": "markdown",
   "metadata": {},
   "source": [
    "And now let's slurp up the data per student."
   ]
  },
  {
   "cell_type": "code",
   "execution_count": 28,
   "metadata": {
    "collapsed": false
   },
   "outputs": [],
   "source": [
    "a = {}\n",
    "for (idx,student) in answers.iterrows():\n",
    "    a[idx] = {}\n",
    "    for colname in answers.columns:\n",
    "        col_name = colname.replace(' ','_')\n",
    "        if col_name in qm:\n",
    "            #print \"Looking up\",col_name\n",
    "            a[idx][qm[col_name]] = student[colname]\n",
    "        else:\n",
    "            if colname not in knownskips:\n",
    "                print \"Could not find\",colname"
   ]
  },
  {
   "cell_type": "markdown",
   "metadata": {},
   "source": [
    "Now we're ready to stamp out the text, believe it or not. The only cute thing is that `pandas` uses nan (\"not a number\") to represent missing data. We'll use `numpy` (imported above as `np`) to test for nan, and turn it into \"No answer given.\""
   ]
  },
  {
   "cell_type": "code",
   "execution_count": 29,
   "metadata": {
    "collapsed": false
   },
   "outputs": [
    {
     "data": {
      "text/plain": [
       "u\"The wide array of mathematical tools we learned how to use. The course covered so much, I'm a little surprised we managed to get through so much and still be able to understand everything.\""
      ]
     },
     "execution_count": 29,
     "metadata": {},
     "output_type": "execute_result"
    }
   ],
   "source": [
    "a[0][questions[0]]"
   ]
  },
  {
   "cell_type": "code",
   "execution_count": 30,
   "metadata": {
    "collapsed": true
   },
   "outputs": [],
   "source": [
    "def is_nan(x): \n",
    "    try: return np.isnan(x) \n",
    "    except: return False #isnan only eats strings\n"
   ]
  },
  {
   "cell_type": "code",
   "execution_count": 31,
   "metadata": {
    "collapsed": true
   },
   "outputs": [],
   "source": [
    "css = \"\"\"\n",
    "p.large-headline {\n",
    "    font-family: times, Times New Roman, times-roman, georgia, serif;\n",
    "    color: #444;\n",
    "    margin: 0px 0px 100px 0px;\n",
    "    padding: 40px 40px 40px 40px;\n",
    "    font-size: 55px;\n",
    "    line-height: 44px;\n",
    "    letter-spacing: -1px;\n",
    "    font-weight: bold;\n",
    "    text-align: center;\n",
    "    border-radius: 25px;\n",
    "    border: 2px solid #111;\n",
    "    width: 90%;\n",
    "}\n",
    "\n",
    "p.medium-headline {\n",
    "    font-family: times, Times New Roman, times-roman, georgia, serif;\n",
    "    color: #444;\n",
    "    margin: 0px -10px 0px 0px;\n",
    "    padding: 0px 0px 0px 0px;\n",
    "    font-size: 25px;\n",
    "    line-height: 24px;\n",
    "    letter-spacing: -1px;\n",
    "    font-weight: bold;\n",
    "    text-align: left;\n",
    "}\n",
    "\n",
    "p.name {\n",
    "    font-family: times, Times New Roman, times-roman, georgia, serif;\n",
    "    font-weight: bold;\n",
    "    font-size: 20px;\n",
    "    margin-top: 2em;\n",
    "    margin-bottom: 0em;\n",
    "}\n",
    "p.question {\n",
    "    font-family: times, Times New Roman, times-roman, georgia, serif;\n",
    "    font-size: 18px;\n",
    "    color: #111;\n",
    "    font-weight: bold;\n",
    "    margin-top: 0em;\n",
    "    margin-bottom: 0em;\n",
    "    width: 90%;\n",
    "}\n",
    "p.answer {\n",
    "    font-family: times, Times New Roman, times-roman, georgia, serif;\n",
    "    font-size: 18px;\n",
    "    color: #111;\n",
    "    text-align: justify;\n",
    "    margin-top: 0em;\n",
    "    margin-bottom: 0em;\n",
    "    width: 90%;\n",
    "}\n",
    "table\n",
    "{\n",
    "  border-collapse: collapse;\n",
    "}\n",
    "th\n",
    "{\n",
    "  color: #ffffff;\n",
    "  background-color: #000000;\n",
    "}\n",
    "td\n",
    "{\n",
    "  background-color: #cccccc;\n",
    "}\n",
    "table, th, td\n",
    "{\n",
    "  font-family:Arial, Helvetica, sans-serif;\n",
    "  border: 1px solid black;\n",
    "  text-align: right;\n",
    "}\n",
    "\"\"\""
   ]
  },
  {
   "cell_type": "code",
   "execution_count": 32,
   "metadata": {
    "collapsed": false
   },
   "outputs": [],
   "source": [
    "html = '''\n",
    "<html>\n",
    "<head>\n",
    "<style>\n",
    "{css}\n",
    "</style>\n",
    "</head>\n",
    "<body>\n",
    "<div>\n",
    "<p class=\"large-headline\">{title}</p>\n",
    "<p class=\"medium-headline\">{code}<br>{instructor}<br>Answers from {a} of {b} enrolled students</p>\n",
    "<div>'''.format(css=css,\n",
    "    title=course_title,code=course_code,instructor=instructor_name,\n",
    "    a=len(a),b=enrollments\n",
    ")"
   ]
  },
  {
   "cell_type": "code",
   "execution_count": 33,
   "metadata": {
    "collapsed": false
   },
   "outputs": [],
   "source": [
    "answertext = ''\n",
    "for idx in sorted(a):\n",
    "    html += '''<div class=\"response\">\n",
    "    <p class=\"name\">Student {i} ({n})</p>\n",
    "    '''.format(\n",
    "            i=idx+1, n=a[idx][questions[-1]]\n",
    "        )\n",
    "    for question in questions[:-1]:\n",
    "        question_cor_name = question.replace(\"[InstructorName]\", instructor_name)\n",
    "        if u'\\xa0' in question_cor_name: \n",
    "            question_cor_name = question_cor_name.replace(u'\\xa0', u' ') #Corrects for unicode encoding error\n",
    "        answer = a[idx][question]\n",
    "        if is_nan(answer):\n",
    "            answer = 'No answer given.'\n",
    "        else:\n",
    "            answertext = answertext + ' ' + answer\n",
    "        html += '''<p class=\"question\">{q}</p>\n",
    "        <p class=\"answer\">{a}</p>\n",
    "        '''.format(q=question_cor_name,a=answer)\n",
    "    html += '</div>'"
   ]
  },
  {
   "cell_type": "code",
   "execution_count": 34,
   "metadata": {
    "collapsed": false
   },
   "outputs": [
    {
     "data": {
      "image/png": "[encoded data removed]",
      "text/plain": [
       "<matplotlib.figure.Figure at 0x7fdf42e2df10>"
      ]
     },
     "metadata": {},
     "output_type": "display_data"
    }
   ],
   "source": [
    "#fig = plt.figure(figsize=(18,14))\n",
    "wordcloud = WordCloud(\n",
    "                      font_path='Fonts/Raleway-Bold.ttf',\n",
    "                      stopwords=STOPWORDS,\n",
    "                      background_color='white',\n",
    "                      width=1800,\n",
    "                      height=1600\n",
    "                     ).generate(answertext)\n",
    "plt.imshow(wordcloud)\n",
    "plt.axis('off')\n",
    "plt.savefig(wc_filename, dpi=300)"
   ]
  },
  {
   "cell_type": "code",
   "execution_count": 35,
   "metadata": {
    "collapsed": true
   },
   "outputs": [],
   "source": [
    "c = Counter([i for i in answertext.lower().split() if i not in STOPWORDS])\n",
    "#for (w,n) in c.most_common(20):\n",
    "#    print \"{w:20s}: {n:4d}\".format(w=w,n=n)"
   ]
  },
  {
   "cell_type": "code",
   "execution_count": 36,
   "metadata": {
    "collapsed": false
   },
   "outputs": [],
   "source": [
    "html += '''<div class=\"content-analysis\">\n",
    "<img src=\"{wc}\" style=\"width:720px;height:560px;\"/>\n",
    "<table>\n",
    "  <caption>Most common words</caption>\n",
    "  <tr><th>Word</th><th>Count</th></tr>\n",
    "'''.format(wc=os.path.split(wc_filename)[-1])\n",
    "for (w,n) in c.most_common(20):\n",
    "    html += '<tr><td>{w}</td><td>{n}</td></tr>\\n'.format(w=w,n=n)\n",
    "html += '''</table>\n",
    "</div>\n",
    "</body>\n",
    "</html>'''"
   ]
  },
  {
   "cell_type": "code",
   "execution_count": 37,
   "metadata": {
    "collapsed": false
   },
   "outputs": [],
   "source": [
    "#open(html_filename,'w').write(html)"
   ]
  },
  {
   "cell_type": "code",
   "execution_count": null,
   "metadata": {
    "collapsed": false,
    "scrolled": false
   },
   "outputs": [],
   "source": [
    "display(HTML(html.replace(os.path.split(wc_filename)[-1],wc_filename))) "
   ]
  },
  {
   "cell_type": "code",
   "execution_count": 39,
   "metadata": {
    "collapsed": false
   },
   "outputs": [],
   "source": [
    "#!weasyprint \"{html_filename}\" \"{pdf_filename}\""
   ]
  },
  {
   "cell_type": "code",
   "execution_count": 40,
   "metadata": {
    "collapsed": true
   },
   "outputs": [],
   "source": [
    "weasyHTML(html_filename).write_pdf(pdf_filename)"
   ]
  }
 ],
 "metadata": {
  "kernelspec": {
   "display_name": "Python 2",
   "language": "python",
   "name": "python2"
  },
  "language_info": {
   "codemirror_mode": {
    "name": "ipython",
    "version": 2
   },
   "file_extension": ".py",
   "mimetype": "text/x-python",
   "name": "python",
   "nbconvert_exporter": "python",
   "pygments_lexer": "ipython2",
   "version": "2.7.10"
  }
 },
 "nbformat": 4,
 "nbformat_minor": 0
}
