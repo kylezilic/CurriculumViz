{
 "cells": [
  {
   "cell_type": "markdown",
   "metadata": {},
   "source": [
    "# Grabbing Directory Information\n",
    "\n",
    "Here, we grab all of the information we can get out of the directory and stuff it into a pandas dataframe (and excel spreadsheet).\n",
    "\n",
    "This parsing is ridiculously fragile, and built specifically around the data that I see on June 4, 2015"
   ]
  },
  {
   "cell_type": "code",
   "execution_count": 1,
   "metadata": {
    "collapsed": true
   },
   "outputs": [],
   "source": [
    "from __future__ import division\n",
    "%matplotlib inline\n",
    "import matplotlib.pyplot as plt\n",
    "import numpy as np, scipy as sp, pandas as pd, matplotlib as mpl\n",
    "from bs4 import BeautifulSoup"
   ]
  },
  {
   "cell_type": "code",
   "execution_count": 2,
   "metadata": {
    "collapsed": false
   },
   "outputs": [
    {
     "name": "stdout",
     "output_type": "stream",
     "text": [
      "I found 201 people\n"
     ]
    }
   ],
   "source": [
    "soup = BeautifulSoup(open('data/EC_Student_Directory.html'))\n",
    "people = soup.find_all(\"div\", class_=\"person\".split(), limit=300)\n",
    "print \"I found {lp} people\".format(lp=len(people))"
   ]
  },
  {
   "cell_type": "markdown",
   "metadata": {},
   "source": [
    "Well that's broken. Let's be simpleminded."
   ]
  },
  {
   "cell_type": "code",
   "execution_count": 3,
   "metadata": {
    "collapsed": false
   },
   "outputs": [
    {
     "name": "stdout",
     "output_type": "stream",
     "text": [
      "890\n"
     ]
    }
   ],
   "source": [
    "divs = []\n",
    "thisdiv = ''\n",
    "closecount = 0\n",
    "inperson = False\n",
    "for line in open('data/EC_Student_Directory.html'):\n",
    "    if line.strip() == '<div class=\"person\">':\n",
    "        if thisdiv != '':\n",
    "            raise Exception('parse error')\n",
    "        thisdiv = line\n",
    "        closecount = 0\n",
    "        inperson = True\n",
    "    if inperson:\n",
    "        thisdiv += line\n",
    "        if line.strip() == '</div>':\n",
    "            closecount += 1\n",
    "        if closecount == 3:\n",
    "            divs.append(thisdiv)\n",
    "            thisdiv, closecount, inperson = '', 0, False\n",
    "print len(divs)"
   ]
  },
  {
   "cell_type": "code",
   "execution_count": 4,
   "metadata": {
    "collapsed": false
   },
   "outputs": [],
   "source": [
    "people = []\n",
    "def person(div):\n",
    "    d = {}\n",
    "    for line in div.split('\\n'):\n",
    "        line = line.strip()\n",
    "        if line.startswith('<a href='):\n",
    "            d['Full Name'] = line.split('>')[1].split('<')[0]\n",
    "        elif line.startswith('<p class=\"academic'):\n",
    "            line = line + '<phonyend>'\n",
    "            for marker in ('Preferred Name','Class Year','Major(s)','Minor(s)','Advisor'):\n",
    "                if marker in line:\n",
    "                    try:\n",
    "                        d[marker] = line.split('{m}: '.format(m=marker))[1].split('<')[0]\n",
    "                    except IndexError:\n",
    "                        d[marker] = ''\n",
    "        elif line.startswith('<p class=\"contact'):\n",
    "            d['email'] = line.split('mailto:')[1].split('\"')[0]\n",
    "        if d:\n",
    "            d['Last Name'] = d['Full Name'].split()[-1]\n",
    "            d['First Name'] = d['Full Name'].split()[0]\n",
    "\n",
    "    return d\n",
    "for div in divs:\n",
    "    people.append(person(div))"
   ]
  },
  {
   "cell_type": "code",
   "execution_count": 5,
   "metadata": {
    "collapsed": false
   },
   "outputs": [],
   "source": [
    "df = pd.DataFrame(columns = people[0].keys(), index=range(1,len(people)+1))\n",
    "for (i,person) in enumerate(people):\n",
    "    df.loc[i+1] = pd.Series(person)"
   ]
  },
  {
   "cell_type": "code",
   "execution_count": 6,
   "metadata": {
    "collapsed": true
   },
   "outputs": [],
   "source": [
    "df.fillna('').to_excel('currentstudents.xlsx',sheet_name='Sheet 1')"
   ]
  },
  {
   "cell_type": "code",
   "execution_count": 7,
   "metadata": {
    "collapsed": false
   },
   "outputs": [],
   "source": [
    "#advising = df['Advisor'].value_counts()"
   ]
  },
  {
   "cell_type": "code",
   "execution_count": 8,
   "metadata": {
    "collapsed": false
   },
   "outputs": [],
   "source": [
    "#http://stackoverflow.com/questions/19124601/is-there-a-way-to-pretty-print-the-entire-pandas-series-dataframe\n",
    "def print_full(x):\n",
    "    pd.set_option('display.max_rows', len(x))\n",
    "    print(x)\n",
    "    pd.reset_option('display.max_rows')\n",
    "#print_full(advising)"
   ]
  }
 ],
 "metadata": {
  "kernelspec": {
   "display_name": "Python 2",
   "language": "python",
   "name": "python2"
  },
  "language_info": {
   "codemirror_mode": {
    "name": "ipython",
    "version": 2
   },
   "file_extension": ".py",
   "mimetype": "text/x-python",
   "name": "python",
   "nbconvert_exporter": "python",
   "pygments_lexer": "ipython2",
   "version": "2.7.10"
  }
 },
 "nbformat": 4,
 "nbformat_minor": 0
}
